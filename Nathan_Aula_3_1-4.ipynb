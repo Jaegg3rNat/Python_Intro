{
 "cells": [
  {
   "cell_type": "markdown",
   "metadata": {},
   "source": [
    "Exercício 1:"
   ]
  },
  {
   "cell_type": "code",
   "execution_count": 19,
   "metadata": {},
   "outputs": [
    {
     "name": "stdout",
     "output_type": "stream",
     "text": [
      "[1, 2, 3] <class 'list'>\n"
     ]
    }
   ],
   "source": [
    "def tipo(t) :\n",
    "    return print(t,type(t))\n",
    "tipo([1,2,3])"
   ]
  },
  {
   "cell_type": "markdown",
   "metadata": {},
   "source": [
    "Exercicio 2: Velocidade Média"
   ]
  },
  {
   "cell_type": "code",
   "execution_count": 32,
   "metadata": {},
   "outputs": [
    {
     "name": "stdout",
     "output_type": "stream",
     "text": [
      "v = 1.0 m/s\n",
      "v = 30 m/s\n"
     ]
    }
   ],
   "source": [
    "def MRU(x1,x2,t): #x1 inicial, x2 final, t tempo\n",
    "    velocidade = (x2-x1)/t   #velocidade media\n",
    "    return velocidade\n",
    "print('v =', MRU(10,20,10), 'm/s')\n",
    "\n",
    "\n",
    "def MRUA(v0,a,t):\n",
    "    velocidade2 = v0 + a*t\n",
    "    return velocidade2\n",
    "print('v =', MRUA(10,2,10),'m/s')"
   ]
  },
  {
   "cell_type": "code",
   "execution_count": 4,
   "metadata": {},
   "outputs": [
    {
     "name": "stdout",
     "output_type": "stream",
     "text": [
      "v = 20 m/s\n"
     ]
    }
   ],
   "source": [
    "#solução diferenciada do exercicio 2(for fun)\n",
    "#lst = [x1,x2,v0,a,t]\n",
    "lst = [10,20,10,1,10]\n",
    "def Velo_Media(lst): \n",
    "    x1 = lst[0]\n",
    "    x2 = lst[1]\n",
    "    t = lst[4]\n",
    "    a = lst[3]\n",
    "    v0 = lst[2]\n",
    "    velocidade = (x2-x1)/t\n",
    "    velocidade2 = v0 + a*t\n",
    "    if a == 0:\n",
    "        return velocidade\n",
    "    else:\n",
    "        return velocidade2\n",
    "    \n",
    "print('v =', Velo_Media(lst), 'm/s')\n"
   ]
  },
  {
   "cell_type": "code",
   "execution_count": null,
   "metadata": {},
   "outputs": [],
   "source": []
  },
  {
   "cell_type": "markdown",
   "metadata": {},
   "source": [
    "Exercício 3: Ângulo Zênite"
   ]
  },
  {
   "cell_type": "code",
   "execution_count": 2,
   "metadata": {},
   "outputs": [
    {
     "name": "stdout",
     "output_type": "stream",
     "text": [
      "75.96375653207353\n"
     ]
    }
   ],
   "source": [
    "import math as mt\n",
    "def thetha(H,D): # H Altura, D tamanho da sombra\n",
    "    AnguloAzimute = mt.degrees(mt.atan(H/D))\n",
    "    return AnguloAzimute\n",
    "print(thetha(20,5))"
   ]
  },
  {
   "cell_type": "markdown",
   "metadata": {},
   "source": [
    "Exercício 4: Conversão de Velocidade"
   ]
  },
  {
   "cell_type": "code",
   "execution_count": 1,
   "metadata": {},
   "outputs": [
    {
     "name": "stdout",
     "output_type": "stream",
     "text": [
      "9.938271604938272e-07\n"
     ]
    }
   ],
   "source": [
    "def C1(milhas):\n",
    "    m = 1.61*milhas\n",
    "    return m\n",
    "def C2(m):\n",
    "    Milhas = m/1.61\n",
    "    return Milhas\n",
    "def C3(s):\n",
    "    h = 60*60*s\n",
    "    return h\n",
    "def C4(H):\n",
    "    S = H/(60*60)\n",
    "    return S\n",
    "    \n",
    "\n",
    "\n",
    "print(C1(4)/C3(60*30))\n",
    "print(C3)"
   ]
  },
  {
   "cell_type": "code",
   "execution_count": null,
   "metadata": {},
   "outputs": [],
   "source": []
  }
 ],
 "metadata": {
  "kernelspec": {
   "display_name": "Python 3",
   "language": "python",
   "name": "python3"
  },
  "language_info": {
   "codemirror_mode": {
    "name": "ipython",
    "version": 3
   },
   "file_extension": ".py",
   "mimetype": "text/x-python",
   "name": "python",
   "nbconvert_exporter": "python",
   "pygments_lexer": "ipython3",
   "version": "3.8.3"
  }
 },
 "nbformat": 4,
 "nbformat_minor": 4
}
