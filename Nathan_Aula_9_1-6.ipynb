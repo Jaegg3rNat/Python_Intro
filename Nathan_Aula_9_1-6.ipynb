{
 "cells": [
  {
   "cell_type": "code",
   "execution_count": 19,
   "metadata": {},
   "outputs": [
    {
     "data": {
      "text/plain": [
       "[4, 8, 12]"
      ]
     },
     "execution_count": 19,
     "metadata": {},
     "output_type": "execute_result"
    }
   ],
   "source": [
    "def dobrar(lista):\n",
    "    \"\"\"Clona e Dobra\"\"\"\n",
    "    clone = lista[:]\n",
    "    for (i,valor) in enumerate(clone):\n",
    "        novo_valor = 2*valor\n",
    "        clone[i] = novo_valor\n",
    "    return clone\n",
    "\n",
    "lista = [2,4,6]\n",
    "dobrar(lista)\n"
   ]
  },
  {
   "cell_type": "code",
   "execution_count": 20,
   "metadata": {},
   "outputs": [
    {
     "name": "stdout",
     "output_type": "stream",
     "text": [
      "Help on function dobrar in module __main__:\n",
      "\n",
      "dobrar(lista)\n",
      "    Clona e Dobra\n",
      "\n"
     ]
    }
   ],
   "source": [
    "help(dobrar)"
   ]
  },
  {
   "cell_type": "code",
   "execution_count": null,
   "metadata": {},
   "outputs": [],
   "source": []
  },
  {
   "cell_type": "code",
   "execution_count": 1,
   "metadata": {},
   "outputs": [
    {
     "name": "stdout",
     "output_type": "stream",
     "text": [
      "Writing dados_alunos.txt\n"
     ]
    }
   ],
   "source": [
    "%%writefile dados_alunos.txt\n",
    "18  1.68    80\n",
    "18\t1.94    60\n",
    "18\t1.7\t80\n",
    "18\t1.76\t66\n",
    "19\t1.73\t87.5\n",
    "18\t1.66\t58\n",
    "21\t1.8\t92\n",
    "18\t1.6\t57\n",
    "18\t1.67\t64\n",
    "18\t1.73\t57\n",
    "17\t1.73\t75\n",
    "18\t1.61\t59\n",
    "18\t1.69\t90\n",
    "17\t1.71\t67\n",
    "19\t1.78\t60\n",
    "22\t1.68\t72\n",
    "18\t1.7\t73\n",
    "19\t1.64\t86\n",
    "18\t1.64\t75\n",
    "20\t1.8\t95\n",
    "17\t1.75\t60\n",
    "18\t1.78\t75\n",
    "18\t1.75\t65\n",
    "17\t1.69\t60\n",
    "19\t1.78\t73\n",
    "18\t1.7\t63\n",
    "34\t1.75\t78\n",
    "18\t1.64\t64\n",
    "19\t1.75\t50\n",
    "18\t1.67\t61\n",
    "18\t1.7\t70\n",
    "20\t1.8\t60\n",
    "18\t1.63\t57\n",
    "23\t1.89\t110\n",
    "18\t1.71\t71\n",
    "18\t1.65\t65\n",
    "17\t1.72\t67\n",
    "19\t1.65\t58\n",
    "18\t1.75\t90\n",
    "18\t1.7\t64\n",
    "19\t1.81\t70\n",
    "19\t1.65\t43\n",
    "28\t1.52\t50\n",
    "19\t1.79\t78\n",
    "26\t1.79\t82\n",
    "19\t1.75\t61\n",
    "19\t1.8\t70\n",
    "20\t1.75\t70\n",
    "20\t1.73\t70\n",
    "19\t1.7\t50\n",
    "22\t1.78\t72\n",
    "19\t1.77\t55\n",
    "18\t1.53\t58\n",
    "28\t1.54\t50\n",
    "20\t1.83\t70\n",
    "44\t1.85\t90\n",
    "18\t1.6\t51"
   ]
  },
  {
   "cell_type": "code",
   "execution_count": null,
   "metadata": {},
   "outputs": [],
   "source": []
  },
  {
   "cell_type": "code",
   "execution_count": 4,
   "metadata": {},
   "outputs": [
    {
     "data": {
      "text/plain": [
       "'18\\t1.68\\t80\\n'"
      ]
     },
     "execution_count": 4,
     "metadata": {},
     "output_type": "execute_result"
    }
   ],
   "source": [
    "\n",
    "fin = open('dados_alunos.txt')\n",
    "fin.readline()"
   ]
  },
  {
   "cell_type": "code",
   "execution_count": 5,
   "metadata": {},
   "outputs": [
    {
     "data": {
      "text/plain": [
       "'18\\t1.94\\t60'"
      ]
     },
     "execution_count": 5,
     "metadata": {},
     "output_type": "execute_result"
    }
   ],
   "source": [
    "\n",
    "linha = fin.readline()\n",
    "linha.strip()"
   ]
  },
  {
   "cell_type": "markdown",
   "metadata": {},
   "source": [
    "# Exercicio 1: Fazer Histograma"
   ]
  },
  {
   "cell_type": "raw",
   "metadata": {},
   "source": [
    "import matplotlib.pyplot as plt\n",
    "import numpy as np\n",
    "%matplotlib inline\n",
    "\n",
    "def histograma(data,freq,x_label,y_label):\n",
    "\tplt.bar(data,freq)\n",
    "\tplt.xlabel(x_label, fontsize = 12)\n",
    "\tplt.ylabel(y_label, fontsize = 12)\n",
    "\tplt.show()\n",
    "\n",
    "fin = open('dados_alunos.txt')\n",
    "objeto = fin.readlines()\n",
    "\n",
    "coluna_0 = []   #idade\n",
    "coluna_1 = []   #altura\n",
    "coluna_2 = []   #peso\n",
    "\n",
    "for i in objeto:\n",
    "\t\tcolumn = i.strip().split('\\t')\n",
    "\t\tcoluna_0.append(float(column[0]))\n",
    "\t\tcoluna_1.append(float(column[1]))\n",
    "\t\tcoluna_2.append(float(column[2]))\n",
    "\n",
    "freq_0 = []\n",
    "data_0 = []\n",
    "\n",
    "for j in coluna_0:\n",
    "\t\tif j not in data_0:\n",
    "\t\t\tdata_0.append(j)\n",
    "\n",
    "for k in data_0:\n",
    "\t\tfreq_0.append(coluna_0.count(k))\n",
    "\n",
    "freq_1 = []\n",
    "data_1 = []\n",
    "\n",
    "for j in coluna_1:\n",
    "\t\tif j not in data_1:\n",
    "\t\t\tdata_1.append(j)\n",
    "\n",
    "for k in data_1:\n",
    "\t\tfreq_1.append(coluna_1.count(k))\n",
    "\n",
    "freq_2 = []\n",
    "data_2 = []\n",
    "\n",
    "for j in coluna_2:\n",
    "\t\tif j not in data_2:\n",
    "\t\t\tdata_2.append(j)\n",
    "\n",
    "for k in data_2:\n",
    "\t\tfreq_2.append(coluna_2.count(k))\n",
    "\t\n",
    "print(coluna_0, freq_0, data_0)\n",
    "print(coluna_1, freq_1, data_1)\n",
    "print(coluna_2, freq_2, data_2)\n",
    "\n",
    "histograma(data_0,freq_0,'Idade','Frequência')\n",
    "histograma(data_1,freq_1,'Altura','Frequência')\n",
    "histograma(data_2,freq_2,'Peso','Frequência')"
   ]
  },
  {
   "cell_type": "markdown",
   "metadata": {},
   "source": [
    "# Exercicio 2: "
   ]
  },
  {
   "cell_type": "code",
   "execution_count": 4,
   "metadata": {},
   "outputs": [
    {
     "name": "stdout",
     "output_type": "stream",
     "text": [
      ".\\.ipynb_checkpoints\n",
      ".\\__pycache__\n",
      ".\\Atividade 5 tartarugas.ipynb\n",
      ".\\backtracking.py\n",
      ".\\dados_alunos.txt\n",
      ".\\lerarquivos.py\n",
      ".\\Nathan_Aula_10_1-5.ipynb\n",
      ".\\Nathan_Aula_8.ipynb\n",
      ".\\Nathan_Aula_9.ipynb\n",
      ".\\Nathan_Fractais_Koch.ipynb\n",
      ".\\Projeto 1.ipynb\n",
      ".\\randomwalk2.py\n",
      ".\\Schrodinger Eq. radial solution.ipynb\n",
      ".\\Untitled.ipynb\n",
      ".\\Untitled1.ipynb\n",
      ".\\Untitled2.ipynb\n",
      ".\\Untitled3.ipynb\n",
      ".\\Untitled4.ipynb\n",
      ".\\Untitled5.ipynb\n",
      ".\\Untitled7.ipynb\n",
      ".\\.ipynb_checkpoints\\Atividade 5 tartarugas-checkpoint.ipynb\n",
      ".\\.ipynb_checkpoints\\IntegralTrapézio-checkpoint.ipynb\n",
      ".\\.ipynb_checkpoints\\Nathan_Aula_10_1-5-checkpoint.ipynb\n",
      ".\\.ipynb_checkpoints\\Nathan_Aula_8-checkpoint.ipynb\n",
      ".\\.ipynb_checkpoints\\Nathan_Aula_9-checkpoint.ipynb\n",
      ".\\.ipynb_checkpoints\\Nathan_Fractais_Koch-checkpoint.ipynb\n",
      ".\\.ipynb_checkpoints\\Projeto 1-checkpoint.ipynb\n",
      ".\\.ipynb_checkpoints\\Schrodinger Eq. radial solution-checkpoint.ipynb\n",
      ".\\.ipynb_checkpoints\\Untitled-checkpoint.ipynb\n",
      ".\\.ipynb_checkpoints\\Untitled1-checkpoint.ipynb\n",
      ".\\.ipynb_checkpoints\\Untitled2-checkpoint.ipynb\n",
      ".\\.ipynb_checkpoints\\Untitled3-checkpoint.ipynb\n",
      ".\\.ipynb_checkpoints\\Untitled4-checkpoint.ipynb\n",
      ".\\.ipynb_checkpoints\\Untitled5-checkpoint.ipynb\n",
      ".\\.ipynb_checkpoints\\Untitled7-checkpoint.ipynb\n",
      ".\\__pycache__\\backtracking.cpython-38.pyc\n",
      ".\\__pycache__\\lerarquivos.cpython-38.pyc\n"
     ]
    }
   ],
   "source": [
    "\n",
    "import os\n",
    "def diretorio():\n",
    "\tfor dirname, dirnames, filenames in os.walk('.'):\n",
    "\t\tfor subdirname in dirnames:\n",
    "\t\t\tprint(os.path.join(dirname,subdirname))\n",
    "\n",
    "\t\tfor filename in filenames:\n",
    "\t\t\tprint(os.path.join(dirname,filename))\n",
    "\n",
    "diretorio()"
   ]
  },
  {
   "cell_type": "code",
   "execution_count": 6,
   "metadata": {},
   "outputs": [
    {
     "name": "stderr",
     "output_type": "stream",
     "text": [
      "UsageError: Line magic function `%writefile` not found (But cell magic `%%writefile` exists, did you mean that instead?).\n"
     ]
    }
   ],
   "source": [
    "\n",
    "#Script da aula\n",
    "%%writefile lcount.py\n",
    "\n",
    "def linecount(filename):\n",
    "    count = 0\n",
    "    for line in open(filename):\n",
    "        count += 1\n",
    "    return count\n",
    "\n",
    "linecount('lcount.py')"
   ]
  },
  {
   "cell_type": "markdown",
   "metadata": {},
   "source": [
    "# Exercicio 4: Ler Arquivos"
   ]
  },
  {
   "cell_type": "code",
   "execution_count": null,
   "metadata": {},
   "outputs": [],
   "source": [
    "\n",
    "def ler_arquivos(arquivo):\n",
    "\ttry:\n",
    "\t\tfile = open(arquivo)\n",
    "\texcept:\n",
    "\t\tprint('O arquivo não pode ser lido.')\n",
    "\t\tprint('Verifique se o nome do arquivo está correto e se ele está no diretório que o script está sendo executado.')\n",
    "\t\texit()\n",
    "\n",
    "\task = input('O arquivo %s que você deseja ler possui cabeçalho? [sim/não] ' % arquivo)\n",
    "\twhile ask not in {'sim', 'não'}:\n",
    "\t\task = input('Essa não é uma resposta válida! Responda \"sim\" ou \"não\".')\n",
    "\n",
    "\tdata = {}\n",
    "\tlista_auxiliar = []\n",
    "\tlinhas = file.readlines()\n",
    "\n",
    "\tfor i in linhas:\n",
    "\t\tcolumn = i.strip().split('\\t')\n",
    "\t\tlista_auxiliar.append(column)\n",
    "\n",
    "\tif ask == 'sim':\n",
    "\t\tfor i in lista_auxiliar[0]:\n",
    "\t\t\tdata[i] = []\n",
    "\n",
    "\t\tfor i in range(1,len(lista_auxiliar)):\n",
    "\t\t\tfor j in range(len(lista_auxiliar[i])):\n",
    "\t\t\t\tdata[ lista_auxiliar[0][j] ].append(eval(lista_auxiliar[i][j]))\n",
    "\telse:\n",
    "\t\tfor i in range(len(column)):\n",
    "\t\t\tdata[i] = []\n",
    "\n",
    "\t\tfor i in range(len(column)):\n",
    "\t\t\tfor j in range(len(lista_auxiliar)):\n",
    "\t\t\t\tdata[i].append(eval(lista_auxiliar[j][i]))\n",
    "\n",
    "\treturn data, ask\n",
    "\n",
    "if __name__ == '__main__':\n",
    "\tfilename = input('Digite o nome do arquivo que você deseja ler sem a extensão .txt: ')\n",
    "\tler_arquivos(filename + '.txt')"
   ]
  },
  {
   "cell_type": "markdown",
   "metadata": {},
   "source": [
    "# Exercicio 5: Adapte para virar um módulo"
   ]
  },
  {
   "cell_type": "code",
   "execution_count": 11,
   "metadata": {},
   "outputs": [
    {
     "name": "stdout",
     "output_type": "stream",
     "text": [
      "Writing lerarquivos.py\n"
     ]
    }
   ],
   "source": [
    "\n",
    "%%writefile lerarquivos.py\n",
    "\n",
    "def ler_arquivos(arquivo):\n",
    "\ttry:\n",
    "\t\tfile = open(arquivo)\n",
    "\texcept:\n",
    "\t\tprint('O arquivo não pode ser lido.')\n",
    "\t\tprint('Verifique se o nome do arquivo está correto e se ele está no diretório que o script está sendo executado.')\n",
    "\t\texit()\n",
    "\n",
    "\task = input('O arquivo %s que você deseja ler possui cabeçalho? [sim/não] ' % arquivo)\n",
    "\twhile ask not in {'sim', 'não'}:\n",
    "\t\task = input('Essa não é uma resposta válida! Responda \"sim\" ou \"não\".')\n",
    "\n",
    "\tdata = {}\n",
    "\tlista_auxiliar = []\n",
    "\tlinhas = file.readlines()\n",
    "\n",
    "\tfor i in linhas:\n",
    "\t\tcolumn = i.strip().split('\\t')\n",
    "\t\tlista_auxiliar.append(column)\n",
    "\n",
    "\tif ask == 'yes':\n",
    "\t\tfor i in lista_auxiliar[0]:\n",
    "\t\t\tdata[i] = []\n",
    "\n",
    "\t\tfor i in range(1,len(lista_auxiliar)):\n",
    "\t\t\tfor j in range(len(lista_auxiliar[i])):\n",
    "\t\t\t\tdata[ lista_auxiliar[0][j] ].append(eval(lista_auxiliar[i][j]))\n",
    "\telse:\n",
    "\t\tfor i in range(len(column)):\n",
    "\t\t\tdata[i] = []\n",
    "\n",
    "\t\tfor i in range(len(column)):\n",
    "\t\t\tfor j in range(len(lista_auxiliar)):\n",
    "\t\t\t\tdata[i].append(eval(lista_auxiliar[j][i]))\n",
    "\n",
    "\treturn data, ask\n",
    "\n",
    "if __name__ == '__main__':\n",
    "\tfilename = input('Digite o nome do arquivo de texto que você deseja ler sem a extensão .txt: ')\n",
    "\tler_arquivos(filename + '.txt')"
   ]
  },
  {
   "cell_type": "code",
   "execution_count": 12,
   "metadata": {},
   "outputs": [
    {
     "name": "stdout",
     "output_type": "stream",
     "text": [
      "O arquivo dados_alunos.txt que você deseja ler possui cabeçalho? [sim/não] sim\n",
      "({0: [18, 18, 18, 18, 19, 18, 21, 18, 18, 18, 17, 18, 18, 17, 19, 22, 18, 19, 18, 20, 17, 18, 18, 17, 19, 18, 34, 18, 19, 18, 18, 20, 18, 23, 18, 18, 17, 19, 18, 18, 19, 19, 28, 19, 26, 19, 19, 20, 20, 19, 22, 19, 18, 28, 20, 44, 18], 1: [1.68, 1.94, 1.7, 1.76, 1.73, 1.66, 1.8, 1.6, 1.67, 1.73, 1.73, 1.61, 1.69, 1.71, 1.78, 1.68, 1.7, 1.64, 1.64, 1.8, 1.75, 1.78, 1.75, 1.69, 1.78, 1.7, 1.75, 1.64, 1.75, 1.67, 1.7, 1.8, 1.63, 1.89, 1.71, 1.65, 1.72, 1.65, 1.75, 1.7, 1.81, 1.65, 1.52, 1.79, 1.79, 1.75, 1.8, 1.75, 1.73, 1.7, 1.78, 1.77, 1.53, 1.54, 1.83, 1.85, 1.6], 2: [80, 60, 80, 66, 87.5, 58, 92, 57, 64, 57, 75, 59, 90, 67, 60, 72, 73, 86, 75, 95, 60, 75, 65, 60, 73, 63, 78, 64, 50, 61, 70, 60, 57, 110, 71, 65, 67, 58, 90, 64, 70, 43, 50, 78, 82, 61, 70, 70, 70, 50, 72, 55, 58, 50, 70, 90, 51]}, 'sim')\n"
     ]
    }
   ],
   "source": [
    "import lerarquivos\n",
    "import importlib\n",
    "importlib.reload(lerarquivos)\n",
    "\n",
    "a = lerarquivos.ler_arquivos(\"dados_alunos.txt\")\n",
    "print(a)\n"
   ]
  },
  {
   "cell_type": "markdown",
   "metadata": {},
   "source": [
    "# Exercicio 6"
   ]
  },
  {
   "cell_type": "code",
   "execution_count": 13,
   "metadata": {},
   "outputs": [
    {
     "name": "stdout",
     "output_type": "stream",
     "text": [
      "Digite o nome do arquivo de texto que você deseja ler sem a extensão .txt: dados_alunos\n",
      "O arquivo dados_alunos.txt que você deseja ler possui cabeçalho? [sim/não] não\n"
     ]
    },
    {
     "data": {
      "image/png": "[encoded data removed]",
      "text/plain": [
       "<Figure size 432x288 with 1 Axes>"
      ]
     },
     "metadata": {
      "needs_background": "light"
     },
     "output_type": "display_data"
    },
    {
     "data": {
      "image/png": "[encoded data removed]",
      "text/plain": [
       "<Figure size 432x288 with 1 Axes>"
      ]
     },
     "metadata": {
      "needs_background": "light"
     },
     "output_type": "display_data"
    },
    {
     "data": {
      "image/png": "[encoded data removed]",
      "text/plain": [
       "<Figure size 432x288 with 1 Axes>"
      ]
     },
     "metadata": {
      "needs_background": "light"
     },
     "output_type": "display_data"
    }
   ],
   "source": [
    "import lerarquivos\n",
    "import importlib\n",
    "importlib.reload(lerarquivos)\n",
    "import matplotlib.pyplot as plt\n",
    "\n",
    "def histograma(data,freq,x_label,y_label):\n",
    "\tplt.bar(data,freq)\n",
    "\tplt.xlabel(x_label, fontsize = 12)\n",
    "\tplt.ylabel(y_label, fontsize = 12)\n",
    "\n",
    "\n",
    "filename = input('Digite o nome do arquivo de texto que você deseja ler sem a extensão .txt: ')\n",
    "data, ask = lerarquivos.ler_arquivos(filename + \".txt\")\n",
    "chaves = list(data.keys())\n",
    "\n",
    "for chave in chaves:\n",
    "\n",
    "#Acessando os dados de cada coluna dentro do dicionario\n",
    "\tdd = data.get(chave)\n",
    "\n",
    "#Listas vazias para armazenar classes e frequencias do histograma\n",
    "\tfreq = []\n",
    "\tclasses = []\n",
    "\n",
    "#Iterando sobre cada elemento de uma coluna para computar as classes\n",
    "\tfor j in dd:\n",
    "\t\t\tif j not in classes:\n",
    "\t\t\t\tclasses.append(j)\n",
    "\n",
    "#Iterando sobre cada classe para fazer a contagem de classes (frequencia) na coluna\n",
    "\tfor k in classes:\n",
    "\t\t\tfreq.append(dd.count(k))\n",
    "\n",
    "#De acordo com a chave do dicionario (coluna) mudando o nome o eixo x\n",
    "\tif chave == 0:\n",
    "\t\tx_label = \"Idade\"\n",
    "\telif chave == 1:\n",
    "\t\tx_label = \"Altura\"\n",
    "\telse:\n",
    "\t\tx_label = \"Peso\"\n",
    "\n",
    "#Nome do eixo y\n",
    "\ty_label = \"Frequência\"\n",
    "\n",
    "#Chamando função de plot do histograma\n",
    "\thistograma(classes,freq,x_label,y_label)\n",
    "\tplt.plot()\n",
    "\tplt.show()"
   ]
  },
  {
   "cell_type": "code",
   "execution_count": null,
   "metadata": {},
   "outputs": [],
   "source": []
  }
 ],
 "metadata": {
  "kernelspec": {
   "display_name": "Python 3",
   "language": "python",
   "name": "python3"
  },
  "language_info": {
   "codemirror_mode": {
    "name": "ipython",
    "version": 3
   },
   "file_extension": ".py",
   "mimetype": "text/x-python",
   "name": "python",
   "nbconvert_exporter": "python",
   "pygments_lexer": "ipython3",
   "version": "3.8.3"
  }
 },
 "nbformat": 4,
 "nbformat_minor": 4
}
