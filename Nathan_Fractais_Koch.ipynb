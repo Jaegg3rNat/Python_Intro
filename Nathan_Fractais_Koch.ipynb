{
 "cells": [
  {
   "cell_type": "markdown",
   "metadata": {},
   "source": [
    "# Exercício: Desenha floco de neve"
   ]
  },
  {
   "cell_type": "code",
   "execution_count": 2,
   "metadata": {},
   "outputs": [
    {
     "name": "stdout",
     "output_type": "stream",
     "text": [
      "qual a cor da janela?black\n",
      "cor da linhaBlue\n"
     ]
    }
   ],
   "source": [
    "import turtle\n",
    "canvas = turtle.getscreen()  #chama janela\n",
    "canvas.bgcolor(input('qual a cor da janela?'))\n",
    "tess1 =turtle.Turtle()  #chama tartaruga\n",
    "tess1.color(input('cor da linha'))\n",
    "tess1.shape('turtle')\n",
    "\n",
    "def koch(tess1, x):\n",
    "    if x < 10:\n",
    "        tess1.forward(5)\n",
    "        return\n",
    "    n = x/3\n",
    "    koch(tess1, n)\n",
    "    tess1.left(60)\n",
    "    koch(tess1, n)\n",
    "    tess1.right(120)\n",
    "    koch(tess1, n)\n",
    "    tess1.left(60)\n",
    "    koch(tess1, n)\n",
    "\n",
    "def snowflake(tess1, n):\n",
    "    for i in range(3):\n",
    "        koch(tess1, n)\n",
    "        tess1.right(120)\n",
    "\n",
    "tess1.penup()\n",
    "tess1.goto(-100, 250)\n",
    "tess1.pendown()\n",
    "snowflake(tess1, 300)\n",
    "tess1.speed(10)"
   ]
  },
  {
   "cell_type": "code",
   "execution_count": null,
   "metadata": {},
   "outputs": [],
   "source": []
  },
  {
   "cell_type": "code",
   "execution_count": null,
   "metadata": {},
   "outputs": [],
   "source": []
  }
 ],
 "metadata": {
  "kernelspec": {
   "display_name": "Python 3",
   "language": "python",
   "name": "python3"
  },
  "language_info": {
   "codemirror_mode": {
    "name": "ipython",
    "version": 3
   },
   "file_extension": ".py",
   "mimetype": "text/x-python",
   "name": "python",
   "nbconvert_exporter": "python",
   "pygments_lexer": "ipython3",
   "version": "3.8.3"
  }
 },
 "nbformat": 4,
 "nbformat_minor": 4
}
