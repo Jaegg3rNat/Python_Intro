{
 "cells": [
  {
   "cell_type": "code",
   "execution_count": 1,
   "metadata": {},
   "outputs": [],
   "source": [
    "import math as mt"
   ]
  },
  {
   "cell_type": "code",
   "execution_count": null,
   "metadata": {},
   "outputs": [],
   "source": []
  },
  {
   "cell_type": "markdown",
   "metadata": {},
   "source": [
    "Exercício 1: Velocidade"
   ]
  },
  {
   "cell_type": "code",
   "execution_count": 28,
   "metadata": {},
   "outputs": [
    {
     "data": {
      "text/plain": [
       "'tempo médio = 420.21 s/mi e a Velocidade = 8.57 mi/h'"
      ]
     },
     "execution_count": 28,
     "metadata": {},
     "output_type": "execute_result"
    }
   ],
   "source": [
    "t = 43*60 + 30 #tempo em segundos\n",
    "d = 10/1.61 #distância em milhas\n",
    "tm = round(t/d,2) # tempo médio por milha\n",
    "v =round(d/(t/(60*60)),2)\n",
    "'tempo médio = {} s/mi e a Velocidade = {} mi/h'.format(tm,v)"
   ]
  },
  {
   "cell_type": "markdown",
   "metadata": {},
   "source": [
    "Exercício 2: Distancia do Som"
   ]
  },
  {
   "cell_type": "code",
   "execution_count": 29,
   "metadata": {},
   "outputs": [
    {
     "data": {
      "text/plain": [
       "'A distância dos fogos é de 1029.0 metros'"
      ]
     },
     "execution_count": 29,
     "metadata": {},
     "output_type": "execute_result"
    }
   ],
   "source": [
    "vs = 343 #velocidade do som m/s\n",
    "c = 3*(10**8) #velocidade da luz m/s\n",
    "ts = 3*c/(c-vs) #tempo de percurso do som\n",
    "D = round(vs*ts,2) # distancia do evento\n",
    "'A distância dos fogos é de {} metros'.format(D)"
   ]
  },
  {
   "cell_type": "markdown",
   "metadata": {},
   "source": [
    "Exercício 3: Equação do 2 grau"
   ]
  },
  {
   "cell_type": "code",
   "execution_count": 31,
   "metadata": {},
   "outputs": [
    {
     "name": "stdout",
     "output_type": "stream",
     "text": [
      "As raizes são 2.610317298281767 e -1.2769839649484336\n"
     ]
    }
   ],
   "source": [
    "a = 3\n",
    "b = -4\n",
    "c = -10\n",
    " \n",
    "delta = b**2 - 4*a*c\n",
    " \n",
    "if delta < 0:\n",
    "    print(\"A equação não possui raizes reais\")\n",
    "elif delta == 0:\n",
    "    raiz = (-1 * b + mt.sqrt(delta)) / (2 * a)\n",
    "    print(\"A raiz da equação é: \",raiz)\n",
    "else:\n",
    "    raiz1 = (-1 * b + mt.sqrt(delta)) / (2 * a)\n",
    "    raiz2 = (-1 * b - mt.sqrt(delta)) / (2 * a)   \n",
    "    print ('As raizes são',raiz1,'e' ,raiz2)"
   ]
  },
  {
   "cell_type": "markdown",
   "metadata": {},
   "source": [
    "Exercício 4: Angulo Azimutal"
   ]
  },
  {
   "cell_type": "code",
   "execution_count": 43,
   "metadata": {},
   "outputs": [
    {
     "name": "stdout",
     "output_type": "stream",
     "text": [
      "O angulo Azimutal θ = 1.471 rad\n"
     ]
    }
   ],
   "source": [
    "H = 5 #altura metros\n",
    "d = 0.5 #sombra metros\n",
    "theta = round(mt.atan(H/d),3) #arcotang do angulo em rad\n",
    "print(\"O angulo Azimutal θ =\" , theta, 'rad')"
   ]
  },
  {
   "cell_type": "markdown",
   "metadata": {},
   "source": [
    "Exercicio 5: IMC"
   ]
  },
  {
   "cell_type": "code",
   "execution_count": 52,
   "metadata": {},
   "outputs": [
    {
     "name": "stdout",
     "output_type": "stream",
     "text": [
      "Meu IMC = 26.299357208448118 e do bebê é 22.44897959183674\n"
     ]
    }
   ],
   "source": [
    "M = 71.6 #minha massa\n",
    "H = 1.65 #minha altura\n",
    "IMC = M/(H**2)\n",
    "m =11 #massa bebe\n",
    "h = 0.7 #altura bebe\n",
    "imc = m/h**2\n",
    "print('Meu IMC =',IMC, 'e do bebê é',imc)"
   ]
  },
  {
   "cell_type": "markdown",
   "metadata": {},
   "source": [
    "Exercício 6: queda Livre"
   ]
  },
  {
   "cell_type": "code",
   "execution_count": 56,
   "metadata": {},
   "outputs": [
    {
     "name": "stdout",
     "output_type": "stream",
     "text": [
      "Velocidade final =  7.672027111526653 m/s Tempo =  0.7820618870057751 s\n"
     ]
    }
   ],
   "source": [
    "x = 3 #altura\n",
    "g = 9.81  #gravidade\n",
    "v = mt.sqrt(2*g*x) #velocidade final\n",
    "t = mt.sqrt((2*x)/g) #tempo de queda\n",
    "print('Velocidade final = ',v,'m/s','Tempo = ',t,'s')\n"
   ]
  },
  {
   "cell_type": "markdown",
   "metadata": {},
   "source": []
  }
 ],
 "metadata": {
  "kernelspec": {
   "display_name": "Python 3",
   "language": "python",
   "name": "python3"
  },
  "language_info": {
   "codemirror_mode": {
    "name": "ipython",
    "version": 3
   },
   "file_extension": ".py",
   "mimetype": "text/x-python",
   "name": "python",
   "nbconvert_exporter": "python",
   "pygments_lexer": "ipython3",
   "version": "3.8.3"
  }
 },
 "nbformat": 4,
 "nbformat_minor": 4
}
