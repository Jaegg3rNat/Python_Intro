{
 "cells": [
  {
   "cell_type": "code",
   "execution_count": 1,
   "metadata": {},
   "outputs": [],
   "source": [
    "import turtle\n",
    "import time\n",
    "import tkinter as tk\n",
    "import math as mt"
   ]
  },
  {
   "cell_type": "markdown",
   "metadata": {},
   "source": [
    "# Exercício 1 e 2. Parte 1: Modificar cor da Janela"
   ]
  },
  {
   "cell_type": "code",
   "execution_count": null,
   "metadata": {},
   "outputs": [],
   "source": [
    "canvas = turtle.getscreen()  #chama janela\n",
    "canvas.bgcolor(input('qual a cor da janela?'))\n",
    "tess1 =turtle.Turtle()  #chama tartaruga\n",
    "tess1.pensize(int(input('largura da caneta?')))\n",
    "tess1.color(input('cor da linha'),input('cor interna'))\n",
    "tess1.forward(50)\n",
    "tess1.shape('turtle')"
   ]
  },
  {
   "cell_type": "markdown",
   "metadata": {},
   "source": [
    "# Exercício 4 Parte 1: Desenhar um Quadrado."
   ]
  },
  {
   "cell_type": "code",
   "execution_count": 8,
   "metadata": {},
   "outputs": [
    {
     "name": "stdout",
     "output_type": "stream",
     "text": [
      "How many sides?4\n"
     ]
    }
   ],
   "source": [
    "def show_poly():# desenha qq polígono\n",
    "    n = int(input(\"How many sides?\"))\n",
    "    angle = 360 / n\n",
    "    #root = tk.Tk()\n",
    "   # canvas = turtle.ScrolledCanvas(root)\n",
    "    canvas = turtle.getscreen()\n",
    "    #canvas.pack(expand=True, fill='both')\n",
    "    tess2 = turtle.RawTurtle(canvas)\n",
    "    tess2.shape('turtle')\n",
    "    for i in range(n):\n",
    "        tess2.forward(30)\n",
    "        tess2.left(angle)\n",
    "    time.sleep(3)\n",
    "    \n",
    "\n",
    "\n",
    "show_poly()\n"
   ]
  },
  {
   "cell_type": "markdown",
   "metadata": {},
   "source": [
    "# Exercício 5 parte 1: Desenhar uma estrela"
   ]
  },
  {
   "cell_type": "code",
   "execution_count": 3,
   "metadata": {},
   "outputs": [
    {
     "name": "stdout",
     "output_type": "stream",
     "text": [
      "How many sides?6\n"
     ]
    }
   ],
   "source": [
    "def star(): #desenha estrela\n",
    "    n = int(input(\"How many sides?\"))\n",
    "    #root = tk.Tk()\n",
    "    canvas = turtle.getscreen()\n",
    "    #canvas.pack(expand=True, fill='both')\n",
    "    tess3 = turtle.RawTurtle(canvas)\n",
    "    for i in range(n):\n",
    "        tess3.forward(100)\n",
    "        tess3.right(144)\n",
    "\n",
    "        \n",
    "star()"
   ]
  },
  {
   "cell_type": "markdown",
   "metadata": {},
   "source": [
    "# Exercício 5 parte 1: Desenhar várias estrelas"
   ]
  },
  {
   "cell_type": "code",
   "execution_count": 3,
   "metadata": {},
   "outputs": [
    {
     "name": "stdout",
     "output_type": "stream",
     "text": [
      "how many stars?3\n",
      "How many sides?7\n"
     ]
    }
   ],
   "source": [
    "def stars(): #desenha varias estrelas\n",
    "    n = int(input('how many stars?'))\n",
    "    l = int(input(\"How many sides?\"))\n",
    "    root = tk.Tk()\n",
    "    canvas = turtle.ScrolledCanvas(root)\n",
    "    canvas.pack(expand=True, fill='both')\n",
    "    tess = turtle.RawTurtle(canvas)\n",
    "    for i in range(n):\n",
    "        for i in range(l):\n",
    "            tess.forward(100)\n",
    "            tess.right(144)\n",
    "        tess.penup()\n",
    "        tess.back(150)\n",
    "        tess.pendown()\n",
    "\n",
    "        \n",
    "stars()"
   ]
  },
  {
   "cell_type": "markdown",
   "metadata": {},
   "source": [
    "# Exercício 1 Parte 2: flores"
   ]
  },
  {
   "cell_type": "code",
   "execution_count": 3,
   "metadata": {},
   "outputs": [
    {
     "name": "stdout",
     "output_type": "stream",
     "text": [
      "Qual raio da flor? 100\n",
      "Quantas petalas? 14\n"
     ]
    }
   ],
   "source": [
    "raio=int(input(\"Qual raio da flor? \"))\n",
    "petala=int(input(\"Quantas petalas? \"))\n",
    "\n",
    "\n",
    "def draw_arc(t,r):  \n",
    "    c=2*mt.pi*r #Circumference do circulo\n",
    "    ca=c/(360/60)  #Circumference do arco (assuma 60graus do setor do angulo central)\n",
    "    n=int(ca/3)+1  #numero de segmentos\n",
    "    l=ca/n  #tamanho do segmento\n",
    "    for i in range(n):\n",
    "        t.forward(l)\n",
    "        t.left(360/(n*6))\n",
    "\n",
    "\n",
    "def draw_petal(t,r):\n",
    "    draw_arc(t,r)\n",
    "    t.lt(180-60)\n",
    "    draw_arc(t,r)\n",
    "    t.rt(360/petala-30)  # Isso é pra corrigir o ângulo entre as petalas\n",
    "\n",
    "\n",
    "bob=turtle.Turtle()\n",
    "#draw_petal(bob,radius)\n",
    "\n",
    "for i in range(petala):\n",
    "    draw_petal(bob,raio)\n",
    "    bob.lt(360/4)\n",
    "    \n"
   ]
  },
  {
   "cell_type": "markdown",
   "metadata": {},
   "source": [
    "# Exercício 2 Parte 2:  poligonos"
   ]
  },
  {
   "cell_type": "code",
   "execution_count": 2,
   "metadata": {},
   "outputs": [
    {
     "name": "stdout",
     "output_type": "stream",
     "text": [
      "quantos triangulos?3\n",
      "tamanho do lado?100\n"
     ]
    }
   ],
   "source": [
    "def polygon():\n",
    "    n = int(input('quantos triangulos?')) #n >= 3 senão nao roda\n",
    "    l = int(input('tamanho do lado?'))\n",
    "    Ai =360/n  # angulo interno de cada triangulo na origem\n",
    "    An = 180 - (180 - Ai)/2 # angulo na lateral de cada triangulo\n",
    "    N = mt.sqrt(2*(l**2)*(1-mt.cos(mt.radians(Ai))))\n",
    "    canvas = turtle.getscreen()\n",
    "    bob1 = turtle.Turtle()\n",
    "    bob1 = turtle.RawTurtle(canvas)\n",
    "    bob1.shape('turtle')\n",
    "    for i in range(n):\n",
    "        bob1.forward(l)\n",
    "        bob1.left(An)\n",
    "        bob1.forward(N)\n",
    "        bob1.left(An)\n",
    "        bob1.forward(l)\n",
    "        bob1.left(180)\n",
    "    time.sleep(3)\n",
    "    \n",
    "    \n",
    "polygon()\n"
   ]
  },
  {
   "cell_type": "code",
   "execution_count": null,
   "metadata": {},
   "outputs": [],
   "source": []
  },
  {
   "cell_type": "markdown",
   "metadata": {},
   "source": [
    "# Exercício 5 Parte 2: Espiral"
   ]
  },
  {
   "cell_type": "code",
   "execution_count": 5,
   "metadata": {},
   "outputs": [],
   "source": [
    "t = turtle.Turtle()  \n",
    "r = 10 # raio inicial\n",
    "  \n",
    "# Loop pra espiral \n",
    "for i in range(100): \n",
    "    t.circle(r + i, 15)"
   ]
  },
  {
   "cell_type": "markdown",
   "metadata": {},
   "source": [
    "# Exercício 3 Parte 2: Flor com Caule"
   ]
  },
  {
   "cell_type": "code",
   "execution_count": 9,
   "metadata": {},
   "outputs": [
    {
     "name": "stdout",
     "output_type": "stream",
     "text": [
      "Qual raio da flor? 100\n",
      "Quantas petalas? 12\n"
     ]
    }
   ],
   "source": [
    "raio=int(input(\"Qual raio da flor? \"))\n",
    "petala=int(input(\"Quantas petalas? \"))\n",
    "canvas = turtle.getscreen()  #chama janela\n",
    "canvas.bgcolor('black')\n",
    "\n",
    "def draw_arc(t,r):  \n",
    "    c=2*mt.pi*r #Circumference do circulo\n",
    "    ca=c/(360/60)  #Circumference do arco (assuma 60graus do setor do angulo central)\n",
    "    n=int(ca/3)+1  #numero de segmentos\n",
    "    l=ca/n  #tamanho do segmento\n",
    "    for i in range(n):\n",
    "        t.forward(l)\n",
    "        t.left(360/(n*6))\n",
    "\n",
    "\n",
    "def draw_petal(t,r):\n",
    "    draw_arc(t,r)\n",
    "    t.lt(180-60)\n",
    "    draw_arc(t,r)\n",
    "    t.rt(360/petala-30)  # Isso é pra corrigir o ângulo entre as petalas\n",
    "\n",
    "\n",
    "bob=turtle.Turtle()\n",
    "bob.color('yellow')\n",
    "#draw_petal(bob,radius)\n",
    "\n",
    "for i in range(petala):\n",
    "    draw_petal(bob,raio)\n",
    "    bob.lt(360/4)\n",
    "    \n",
    "\n",
    "    \n",
    "bob.penup()\n",
    "bob.home()\n",
    "bob.pendown()\n",
    "bob.rt(90)\n",
    "bob.pensize(4)\n",
    "bob.color('green')\n",
    "bob.fd(200)\n",
    "bob.lt(90)\n",
    "bob.color('DarkGreen')\n",
    "bob.circle(100,60)\n",
    "bob.lt(120)\n",
    "bob.circle(100,60)"
   ]
  },
  {
   "cell_type": "code",
   "execution_count": null,
   "metadata": {},
   "outputs": [],
   "source": []
  }
 ],
 "metadata": {
  "kernelspec": {
   "display_name": "Python 3",
   "language": "python",
   "name": "python3"
  },
  "language_info": {
   "codemirror_mode": {
    "name": "ipython",
    "version": 3
   },
   "file_extension": ".py",
   "mimetype": "text/x-python",
   "name": "python",
   "nbconvert_exporter": "python",
   "pygments_lexer": "ipython3",
   "version": "3.8.3"
  }
 },
 "nbformat": 4,
 "nbformat_minor": 4
}
