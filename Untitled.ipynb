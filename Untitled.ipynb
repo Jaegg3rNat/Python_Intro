{
 "cells": [
  {
   "cell_type": "code",
   "execution_count": 1,
   "metadata": {},
   "outputs": [],
   "source": [
    "\n",
    "import turtle\n",
    "\n",
    "def draw_bar(t, height):\n",
    "    \"\"\" Get turtle t to draw one bar, of height. \"\"\"\n",
    "    t.forward(height)\n",
    "    t.right(90)\n",
    "    t.forward(40)\n",
    "    t.right(90)\n",
    "    t.forward(height)\n",
    "    t.left(90)\n",
    "    t.forward(10)\n",
    "    t.left(90)\n",
    "\n",
    "tess = turtle.Turtle()   # inicialização\n",
    "canvas = turtle.getscreen()\n",
    "tess.color('blue')\n",
    "canvas.bgcolor('white')\n",
    "tess.penup() #levantar a caneta\n",
    "tess.goto(10,450) #mudar posicao de inicio \n",
    "tess.pendown() #abaixar a caneta\n",
    "\n",
    "xs = [48,117,200,240,160,260,220]\n",
    "\n",
    "for a in xs:\n",
    "    draw_bar(tess, a)"
   ]
  },
  {
   "cell_type": "code",
   "execution_count": 2,
   "metadata": {},
   "outputs": [],
   "source": [
    "canvas.clear()"
   ]
  },
  {
   "cell_type": "markdown",
   "metadata": {},
   "source": [
    "# Exercício: Desafio"
   ]
  },
  {
   "cell_type": "code",
   "execution_count": 1,
   "metadata": {},
   "outputs": [],
   "source": [
    "import numpy as np\n",
    "import matplotlib.pyplot as plt\n",
    "\n",
    "%matplotlib inline"
   ]
  },
  {
   "cell_type": "code",
   "execution_count": 30,
   "metadata": {
    "scrolled": false
   },
   "outputs": [
    {
     "name": "stdout",
     "output_type": "stream",
     "text": [
      "numero de bins10\n",
      "qual a cor?green\n"
     ]
    },
    {
     "data": {
      "text/plain": [
       "(array([1., 0., 0., 1., 0., 1., 0., 1., 1., 2.]),\n",
       " array([ 48. ,  69.2,  90.4, 111.6, 132.8, 154. , 175.2, 196.4, 217.6,\n",
       "        238.8, 260. ]),\n",
       " <a list of 10 Patch objects>)"
      ]
     },
     "execution_count": 30,
     "metadata": {},
     "output_type": "execute_result"
    },
    {
     "data": {
      "image/png": "[encoded data removed]",
      "text/plain": [
       "<Figure size 576x432 with 1 Axes>"
      ]
     },
     "metadata": {
      "needs_background": "light"
     },
     "output_type": "display_data"
    }
   ],
   "source": [
    "fig, ax = plt.subplots(figsize = (8,6))\n",
    "x=  [48,117,200,240,160,260,220]\n",
    "\n",
    "ax.hist(x, bins=int(input('numero de bins')), facecolor = input('qual a cor?'))\n",
    "\n"
   ]
  },
  {
   "cell_type": "code",
   "execution_count": null,
   "metadata": {},
   "outputs": [],
   "source": []
  },
  {
   "cell_type": "code",
   "execution_count": null,
   "metadata": {},
   "outputs": [],
   "source": []
  }
 ],
 "metadata": {
  "kernelspec": {
   "display_name": "Python 3",
   "language": "python",
   "name": "python3"
  },
  "language_info": {
   "codemirror_mode": {
    "name": "ipython",
    "version": 3
   },
   "file_extension": ".py",
   "mimetype": "text/x-python",
   "name": "python",
   "nbconvert_exporter": "python",
   "pygments_lexer": "ipython3",
   "version": "3.8.3"
  }
 },
 "nbformat": 4,
 "nbformat_minor": 4
}
