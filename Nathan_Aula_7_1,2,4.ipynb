{
 "cells": [
  {
   "cell_type": "markdown",
   "metadata": {},
   "source": [
    "#     Exercício 1: Collatz"
   ]
  },
  {
   "cell_type": "code",
   "execution_count": 1,
   "metadata": {},
   "outputs": [
    {
     "name": "stdout",
     "output_type": "stream",
     "text": [
      "numero15\n",
      "Número de Divisões: 17 [15, 46, 23.0, 70.0, 35.0, 106.0, 53.0, 160.0, 80.0, 40.0, 20.0, 10.0, 5.0, 16.0, 8.0, 4.0, 2.0, 1.0]\n"
     ]
    }
   ],
   "source": [
    "def colatz(n):\n",
    "    lista = [n]\n",
    "    if n< 1:\n",
    "        return []\n",
    "    count = 0\n",
    "    while n>1:\n",
    "        if n %2 ==0:\n",
    "            n = n/2\n",
    "            count = count + 1\n",
    "        else:\n",
    "            n = 3*n +1\n",
    "            count = count + 1\n",
    "        lista.append(n)\n",
    "    return print('Número de Divisões:', count, lista)\n",
    "\n",
    "colatz(int(input('numero')))"
   ]
  },
  {
   "cell_type": "markdown",
   "metadata": {},
   "source": [
    "# Exercício 2: Contagem de Algarismos"
   ]
  },
  {
   "cell_type": "code",
   "execution_count": 12,
   "metadata": {},
   "outputs": [
    {
     "data": {
      "text/plain": [
       "1"
      ]
     },
     "execution_count": 12,
     "metadata": {},
     "output_type": "execute_result"
    }
   ],
   "source": [
    "#transforma numero em string\n",
    "string = input('qual seu número?')\n",
    "string.count('0') + string.count('5') # conte quantos zeros e 5 tem."
   ]
  },
  {
   "cell_type": "markdown",
   "metadata": {},
   "source": [
    "# Exercício 4: Raiz quadrada de Newton"
   ]
  },
  {
   "cell_type": "code",
   "execution_count": 2,
   "metadata": {},
   "outputs": [
    {
     "name": "stdout",
     "output_type": "stream",
     "text": [
      "Qual a raiz?15\n",
      "primeira aproximação20\n",
      "Contagem: 6 Raiz: 3.8729833463043573\n"
     ]
    }
   ],
   "source": [
    "def Raiz(n):\n",
    "    if n< 0:\n",
    "        return print('Não existe solução real')\n",
    "\n",
    "    melhor = float(input('primeira aproximação'))\n",
    "    precision = 10**(-5)\n",
    "    count = 0\n",
    "    while abs(n- melhor*melhor) > precision:\n",
    "        melhor = (melhor + n/melhor)/2\n",
    "        count = count + 1\n",
    "    return print( 'Contagem:',count, 'Raiz:', melhor) \n",
    "\n",
    "Raiz(float(input('Qual a raiz?')))"
   ]
  },
  {
   "cell_type": "code",
   "execution_count": null,
   "metadata": {},
   "outputs": [],
   "source": []
  }
 ],
 "metadata": {
  "kernelspec": {
   "display_name": "Python 3",
   "language": "python",
   "name": "python3"
  },
  "language_info": {
   "codemirror_mode": {
    "name": "ipython",
    "version": 3
   },
   "file_extension": ".py",
   "mimetype": "text/x-python",
   "name": "python",
   "nbconvert_exporter": "python",
   "pygments_lexer": "ipython3",
   "version": "3.8.3"
  }
 },
 "nbformat": 4,
 "nbformat_minor": 4
}
