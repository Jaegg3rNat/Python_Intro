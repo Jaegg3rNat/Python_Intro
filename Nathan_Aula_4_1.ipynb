{
 "cells": [
  {
   "cell_type": "markdown",
   "metadata": {},
   "source": [
    "# Exercício 1: "
   ]
  },
  {
   "cell_type": "code",
   "execution_count": 1,
   "metadata": {},
   "outputs": [
    {
     "name": "stdout",
     "output_type": "stream",
     "text": [
      "spam\n",
      "spam\n"
     ]
    }
   ],
   "source": [
    "def do_twice (f):\n",
    "    f ()\n",
    "    f ()\n",
    "\n",
    "def print_spam ():\n",
    "    print('spam')\n",
    "\n",
    "do_twice(print_spam)"
   ]
  },
  {
   "cell_type": "code",
   "execution_count": 2,
   "metadata": {},
   "outputs": [
    {
     "name": "stdout",
     "output_type": "stream",
     "text": [
      "spam modificado\n",
      "spam modificado\n"
     ]
    }
   ],
   "source": [
    "def do_twice(f,x):\n",
    "    f(x)\n",
    "    f(x)\n",
    "   \n",
    "def print_spam(x):\n",
    "    print(x)\n",
    "   \n",
    "x = 'spam modificado'\n",
    "do_twice(print_spam, x)"
   ]
  },
  {
   "cell_type": "code",
   "execution_count": 3,
   "metadata": {},
   "outputs": [
    {
     "name": "stdout",
     "output_type": "stream",
     "text": [
      "spam geral\n",
      "spam geral\n",
      "spam geral\n",
      "spam geral\n"
     ]
    }
   ],
   "source": [
    "\n",
    "def print_twice(y):\n",
    "    print(y)\n",
    "    print(y)\n",
    "\n",
    "y = 'spam geral'\n",
    "do_twice(print_twice, y)"
   ]
  },
  {
   "cell_type": "code",
   "execution_count": 4,
   "metadata": {},
   "outputs": [
    {
     "name": "stdout",
     "output_type": "stream",
     "text": [
      "spam\n",
      "spam\n"
     ]
    }
   ],
   "source": [
    "def do_four(f,x):\n",
    "    print(f,x)\n",
    "    print(f,x)\n",
    "\n",
    "z = 'spam'\n",
    "do_twice(print_spam,z)"
   ]
  },
  {
   "cell_type": "code",
   "execution_count": null,
   "metadata": {},
   "outputs": [],
   "source": []
  }
 ],
 "metadata": {
  "kernelspec": {
   "display_name": "Python 3",
   "language": "python",
   "name": "python3"
  },
  "language_info": {
   "codemirror_mode": {
    "name": "ipython",
    "version": 3
   },
   "file_extension": ".py",
   "mimetype": "text/x-python",
   "name": "python",
   "nbconvert_exporter": "python",
   "pygments_lexer": "ipython3",
   "version": "3.8.3"
  }
 },
 "nbformat": 4,
 "nbformat_minor": 4
}
