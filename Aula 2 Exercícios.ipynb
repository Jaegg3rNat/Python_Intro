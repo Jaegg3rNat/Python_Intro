{
 "cells": [
  {
   "cell_type": "markdown",
   "metadata": {},
   "source": [
    "Exercicio 1:"
   ]
  },
  {
   "cell_type": "code",
   "execution_count": 26,
   "metadata": {},
   "outputs": [],
   "source": [
    "import math as mt"
   ]
  },
  {
   "cell_type": "code",
   "execution_count": 27,
   "metadata": {},
   "outputs": [],
   "source": [
    "largura = 17\n",
    "altura = 12.0\n",
    "delimitador = '.'"
   ]
  },
  {
   "cell_type": "code",
   "execution_count": 28,
   "metadata": {},
   "outputs": [
    {
     "name": "stdout",
     "output_type": "stream",
     "text": [
      "Resultado 8.5 <class 'float'>\n",
      "Resultado 8.5 <class 'float'>\n",
      "Resultado 4.0 <class 'float'>\n",
      "Resultado 11 <class 'int'>\n",
      "Resultado ..... <class 'str'>\n"
     ]
    }
   ],
   "source": [
    "#Expressões\n",
    "print('Resultado',largura/2, type(largura/2))\n",
    "print('Resultado',largura/2.0, type(largura/2.0))\n",
    "print('Resultado',altura/3, type(altura/3))\n",
    "print('Resultado',1 + 2 * 5, type(1 + 2 * 5))\n",
    "print('Resultado',delimitador*5, type(delimitador*5))"
   ]
  },
  {
   "cell_type": "markdown",
   "metadata": {},
   "source": [
    "Exercício 2: Volume de esfera"
   ]
  },
  {
   "cell_type": "code",
   "execution_count": 41,
   "metadata": {},
   "outputs": [
    {
     "name": "stdout",
     "output_type": "stream",
     "text": [
      "Volume é = 523.5987755982989 u.r\n"
     ]
    }
   ],
   "source": [
    "r = 5\n",
    "pi = mt.pi\n",
    "V =(4/3)*pi*(r**3)\n",
    "print('Volume é =', V,'u.r')"
   ]
  },
  {
   "cell_type": "markdown",
   "metadata": {},
   "source": [
    "Exercicio 3: Livros"
   ]
  },
  {
   "cell_type": "code",
   "execution_count": 47,
   "metadata": {},
   "outputs": [
    {
     "name": "stdout",
     "output_type": "stream",
     "text": [
      "Valor = R$ 945.4499999999999\n"
     ]
    }
   ],
   "source": [
    "Preço = 24.95\n",
    "desconto =(40/100)*(24.95)\n",
    "N = 60\n",
    "Valor_a_pagar = (Preço - desconto)*N\n",
    "frete = 3 + 0.75*(N-1)\n",
    "Valor_total = Valor_a_pagar + frete\n",
    "print('Valor = R$',Valor_total)"
   ]
  },
  {
   "cell_type": "markdown",
   "metadata": {},
   "source": [
    "Exercicio 4:"
   ]
  },
  {
   "cell_type": "code",
   "execution_count": 52,
   "metadata": {},
   "outputs": [
    {
     "name": "stdout",
     "output_type": "stream",
     "text": [
      "0.005011776 metros\n"
     ]
    }
   ],
   "source": [
    "L= 632.8/10**9 #nm\n",
    "D =1.98 #m\n",
    "d =0.25/10**3 #mm\n",
    "DY = L*D/d #diatancia entre dois maximos\n",
    "print(DY,'metros')"
   ]
  },
  {
   "cell_type": "code",
   "execution_count": null,
   "metadata": {},
   "outputs": [],
   "source": []
  }
 ],
 "metadata": {
  "kernelspec": {
   "display_name": "Python 3",
   "language": "python",
   "name": "python3"
  },
  "language_info": {
   "codemirror_mode": {
    "name": "ipython",
    "version": 3
   },
   "file_extension": ".py",
   "mimetype": "text/x-python",
   "name": "python",
   "nbconvert_exporter": "python",
   "pygments_lexer": "ipython3",
   "version": "3.8.3"
  }
 },
 "nbformat": 4,
 "nbformat_minor": 4
}
